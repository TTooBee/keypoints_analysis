{
 "cells": [
  {
   "cell_type": "markdown",
   "metadata": {},
   "source": [
    "# 0212 메모\n",
    "##### 문제 상황\n",
    "- xy좌표 plot해본 결과, 좌표값 자체에는 문제가 없다.\n",
    "- cart2sph에서 문제가 발생했거나, azimuthTrans에서 문제가 발생한 것 같다.\n",
    "- 특이한 점은, 되게 애매한 지점부터 애매하게 이상하다는 것. 아무튼 그럼.\n",
    "\n",
    "##### 시도해볼만한 해결법\n",
    "- 미분 불가능한 점이 없도록 -pi<->pi구간을 확장하는 알고리즘 만들기.\n",
    "- cart2sph를 사용하지 않고, 직접 만들기??\n",
    "\n",
    "실험 결과, cart2shp자체나 azimuthTrans에 직접적인 문제가 있지는 않다. \n",
    "- cart2sph의 미분 불가능 점에서 문제가 생기므로 car2sph를 새로 만들기?"
   ]
  },
  {
   "cell_type": "markdown",
   "metadata": {},
   "source": [
    "# 해결했다!\n",
    "- azimuth 자체에 smoothing을 적용해버리니까 미분 불가능한 점에서 크게 팍 올라가야되는데 smoothing이 적용되니 상대적으로 부드럽게 올라감."
   ]
  },
  {
   "cell_type": "markdown",
   "metadata": {},
   "source": [
    "##### 방금 발견한 문제\n",
    "- ruusuvuori serve 보면 트로피 자세 이후 원점 앞에서 손이 움직인다. \n",
    "![이미지 불러오지 못함](images_for_memo\\ruusuvuori_serve.png \"ruusuvuori serve\")\n",
    "- 손이 뒤로 움직여서 빠져나와야 neg_to_pos_flag가 초기화되는데, 그대로 azimuth가 증가하며 그러지 못하고 있음."
   ]
  },
  {
   "cell_type": "markdown",
   "metadata": {},
   "source": [
    "# 수정해야 할 부분\n",
    "- playing/non-playing 분류 알고리즘에서 non-playing threshold를 가변적으로 적용하도록(min값의 4배) 하니, non-playing 구간이 아예 없는 영상에 대해서는 오분류가 나옴(playing인 구간에서 min값을 찾기 때문).\n",
    "    - 그냥 min값 사용하지 말고 에너지값 사용하자.\n",
    "- 또한, azimuth만 사용하지 말고 elevation도 같이 고려하자. azimuth만 고려하니 생각보다 오차가 있다."
   ]
  },
  {
   "cell_type": "markdown",
   "metadata": {},
   "source": [
    "# 진행시킬 것\n",
    "- evelation과 azimuth를 OR로 할지 AND로 할지 결정해야 할 듯"
   ]
  },
  {
   "cell_type": "markdown",
   "metadata": {},
   "source": [
    "# 내일 할일\n",
    "##### elevation도 고려하여 playing/non-playing 구분 알고리즘 작성\n",
    "- evelation과 azimuth를 OR로 할지 AND로 할지 결정해야 할 듯\n",
    "- ball detection 결과 어떻게 사용할지 고민.\n",
    "- 공 감지를 사용하지 않고 발리 감지 어떻게 할지 고민."
   ]
  }
 ],
 "metadata": {
  "language_info": {
   "name": "python"
  }
 },
 "nbformat": 4,
 "nbformat_minor": 2
}
