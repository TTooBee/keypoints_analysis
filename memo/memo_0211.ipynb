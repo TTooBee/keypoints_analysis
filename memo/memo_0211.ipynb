{
 "cells": [
  {
   "cell_type": "markdown",
   "metadata": {},
   "source": [
    "# 0211 메모\n",
    "### playing/non-playing 분류\n",
    "- 90프레임(3초)의 윈도우를 슬라이딩하며 에너지가 작은 구간은 non-playing, 에너지가 큰 구간은 playing으로 분류\n",
    "- 구간 에너지의 최소값 * 4보다 에너지가 작은 구간을 non-playing으로 분류. 그 외의 구간은 모두 playing."
   ]
  },
  {
   "cell_type": "markdown",
   "metadata": {},
   "source": [
    "# 내일 할것\n",
    "##### 해결해야 할 문제\n",
    "- federer_0210 1645번째 프레임 보면 미분 불가능한 점이 있음. 한 프레임 차이로 그러는 것도 아니고 뭔가 이상함.\n",
    "    - 아마도 -pi와 pi 사이에 미분 불가능한 부분 때문에 생기는 문제같은데...\n",
    "    - 일단 미분 불가능한점 없애는 알고리즘도 생각해두자.\n",
    "    - 매트랩에서 영상의 해당 프레임 볼 수 있게 코드 짜서 어떤 상황인지 보자. \n",
    "- azimuth를 사용하는 것이 좋은지 r_xy_azimuth를 사용하는 것이 좋은지는 다시 생각해보자.\n",
    "    - 우선 포백 분류에서는 그냥 azimuth 쓰는게 훨씬 성능은 좋아보인다. \n",
    "    - 플레잉/논플레잉 분류는 확실하지는 않지만 얘도 그냥 azimuth 쓰는게 더 좋아보이는 것 같기도..?\n",
    "- 공 감지 사용하면 포백 분류, 플레잉/논플레잉 분류 성능 훨씬 올라갈 것으로 생각됨. \n",
    "\n",
    "##### 진행 시킬 것\n",
    "1. playing/non-playing 분류에서 elevation을 고려하는 것(서브 감지에는 이것 필요할 듯)\n",
    "2. playing/non-playing 인덱스로 영상을 자르자(자른 부분 번호 붙이기).\n",
    "3. 샷 별로 구분하기.\n",
    "4. 서브 분류, 발리 분류, 슬라이스 분류 알고리즘.\n",
    "5. 현재는 스트록(포백)만 분류가 가능한데, 슬라이스(elevation 고려?), 발리까지 분류를 해내야 한다. 대분류에서 소분류로 가는 방향으로?"
   ]
  },
  {
   "cell_type": "markdown",
   "metadata": {},
   "source": [
    "# 수정한 부분\n",
    "- 기본 샷 threshold를 0.8pi에서 0.5*pi로 조정."
   ]
  }
 ],
 "metadata": {
  "language_info": {
   "name": "python"
  }
 },
 "nbformat": 4,
 "nbformat_minor": 2
}
