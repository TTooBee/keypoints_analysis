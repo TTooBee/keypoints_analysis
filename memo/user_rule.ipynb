{
 "cells": [
  {
   "cell_type": "markdown",
   "metadata": {},
   "source": [
    "# 사용자 규칙\n",
    "- 영상 장면 시작에는 꼭 사용자가 있어야한다?"
   ]
  }
 ],
 "metadata": {
  "language_info": {
   "name": "python"
  }
 },
 "nbformat": 4,
 "nbformat_minor": 2
}
