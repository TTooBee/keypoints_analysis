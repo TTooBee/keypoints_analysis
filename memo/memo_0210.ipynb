{
 "cells": [
  {
   "cell_type": "markdown",
   "metadata": {},
   "source": [
    "# 0210 메모\n",
    "스윙 분석 시 azimuth를 볼 것이 아니라, r_xy * azimuth를 봐야한다!!!\n",
    "- 만약 r_xy가 굉장히 작을 경우 azimuth는 엄청 불안정함. 손을 조금만 움직여도 azimuth는 크게 변함. r_xy * azimuth로 보면 훨씬 스윙인 동작과 스윙이 아닌 동작 구분이 명확해진다"
   ]
  },
  {
   "cell_type": "markdown",
   "metadata": {},
   "source": [
    "strokeForebackClassif에서 azimuth값을 직접 사용하는 것이 아닌 r_xy * azimuth를 사용하도록 해야한다. 상당한 대공사일듯.<br/>\n",
    "아니면 strokeForebackClassif에서는 azimuth를 사용하고 playing/non-playing 구분할 때는 r_xy * azimuth 사용?"
   ]
  },
  {
   "cell_type": "markdown",
   "metadata": {},
   "source": [
    "##### 손의 좌표가 몸 뒤쪽에 있을 때\n",
    "이 경우 미분 불가능한 점이 생기게 됨. 미분 불가능한 점이 없도록 azimuth를 확장하는 알고리즘 필요?"
   ]
  },
  {
   "cell_type": "markdown",
   "metadata": {},
   "source": [
    "### 우선 지금 할일\n",
    "- 포백 분류는 기존 알고리즘대로\n",
    "- playing/non-playing 구분은 r*theta(azimuth or elevation) 값 사용\n",
    "###### 구체적인 분류 알고리즘\n",
    "- 90프레임정도의 에너지를 구해서 에너지가 크면 playing, 작으면 non-playing으로\n",
    "- 또는, 서브를 감지하거나(elevation과 임펄스의 correlation?), 샷 하나를 감지하는 것도 나쁘지 않아보임. \n",
    "    - 이거로 할 경우 샷과 샷 사이를 어떻게 할지 조금 애매해진다.\n",
    "    - 이렇게 진행하고, 샷과 샷 사이의 에너지를 비교?"
   ]
  }
 ],
 "metadata": {
  "language_info": {
   "name": "python"
  }
 },
 "nbformat": 4,
 "nbformat_minor": 2
}
