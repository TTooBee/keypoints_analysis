{
 "cells": [
  {
   "cell_type": "markdown",
   "metadata": {},
   "source": [
    "# 0215 메모\n",
    "- 사용자가 앵글을 벗어났을 때\n",
    "    - y축 기준으로 벗어났을 때, x값 증가해서 벗어났을 때도 알고리즘에 추가해야 한다"
   ]
  }
 ],
 "metadata": {
  "language_info": {
   "name": "python"
  }
 },
 "nbformat": 4,
 "nbformat_minor": 2
}
