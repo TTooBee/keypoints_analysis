{
 "cells": [
  {
   "cell_type": "markdown",
   "metadata": {},
   "source": [
    "# 0206 메모\n",
    "## 매트랩 스윙분석"
   ]
  },
  {
   "cell_type": "markdown",
   "metadata": {},
   "source": [
    "### 스윙 분석 방법\n",
    "1. 우선 smoothing을 적용해서 노이즈성 성분을 최대한 제거. 이 결과는 \"동작 분류\" 에 사용됨.\n",
    "2. 이후에 smoothing을 적용하지 않은 결과로 \"동작 평가\" 실시."
   ]
  },
  {
   "cell_type": "markdown",
   "metadata": {},
   "source": [
    "### 공 감지\n",
    "공 감지를 통해 포, 백의 큰 국면 결정. 공이 원점기준 오른쪽이면 포핸드, 왼쪽이면 백핸드. 이 부분은 포백의 큰 기준만 나눠두는 것. 이 단계에서 포핸드로 나왔다라도 결국 최종적으로 포백을 판단하는 것은 스윙의 모양!! 이거 중요!!"
   ]
  },
  {
   "cell_type": "markdown",
   "metadata": {},
   "source": [
    "결정 이후 손의 움직임(azimuth, elevation)을 분석."
   ]
  },
  {
   "cell_type": "markdown",
   "metadata": {},
   "source": [
    "### azimuth, elevation에서 크게 분석해야할 것\n",
    "1. elevation은 포핸드, 백핸드 상관 없이 상향스윙일 경우 모두 증가(만약 가로스윙이라면 잘 감지를 못하려나??).\n",
    "2. azimuth의 경향성.\n",
    "    - 한 샷에서 포워드 스윙은 가장 큰 azimuth 변화\n",
    "    - 백스윙(테이크백)과 포위드 스윙 이후 스플릿까지의 동작은 포워드 스윙의 절반정도 되는 azimuth 움직임을 보임."
   ]
  },
  {
   "cell_type": "markdown",
   "metadata": {},
   "source": [
    "### smoothing이 적용된 스윙에 미분(도함수) 분석? 거기에 fsm까지 적용?\n",
    "1. 포핸드 국면(공의 위치가 원점기준 오른쪽)\n",
    "    - \"오른손\" azimuth 및 elevation 분석\n",
    "        - azimuth : 기울기가 양수인 상태가 유지되며, 0.9pi 이상 회전하는 구간 검색.\n",
    "        - 0.9pi 이상 회전하면, 기울기 양수인 구간 전부를 포핸드 포워드 스윙으로 결정.\n",
    "        - elevation : 이거는 \"동작 평가\" 에서 써야하나??\n",
    "2. 백핸드 국면(공의 위치가 원점기준 왼쪽)\n",
    "    - \"왼손\" azimuth 및 elevation 분석\n",
    "        - 포핸드에서 방향만 반대. \n",
    "\n",
    "\n",
    "이 방법으로 샷과 샷을 구분. "
   ]
  },
  {
   "cell_type": "markdown",
   "metadata": {},
   "source": [
    "### fsm 설계?\n",
    "1. 도함수 구하기.\n",
    "2. 도함수 양수인 구간은 1, 음수인 구간은 -1.\n",
    "3. 도함수가 양수인 구간(시작 인덱스, 끝 인덱스)을 행렬에 저장(구간 수 x 2(시작, 끝))\n",
    "4. 끝 인덱스의 azimuth 값 - 끝 인덱스의 azimuth 값 >= 0.9pi 면? : 그 구간은 포워드 스윙으로 간주.\n",
    "\n",
    "\n",
    "\n",
    "\n",
    "3. 반복문 시작. azimuth 벡터에 대해 2번째 인덱스부터 반복문 돌아감.\n",
    "    - count_fore, count_back, dec_fore, dec_back, idx_fore, length_fore,  idx_back, length_back변수 생성\n",
    "    - 일단 포핸드 기준으로 설명\n",
    "    - count_fore == \n",
    "    - 이전 값이 1, 현재 값이 1 : count_fore++\n",
    "\n",
    "포핸드 백핸드 국면 결정 결과로 구간을 뽑아내는게 아니라 그냥 모든 인덱스를 뽑아내는게 나을듯?"
   ]
  },
  {
   "cell_type": "markdown",
   "metadata": {},
   "source": [
    "# 0209 메모\n",
    "### 현 상황\n",
    "포핸드 백핸드 분류는 성공(우선 공 감지 없이 분류해내는데 성공. 나름 잘 분류함)."
   ]
  },
  {
   "cell_type": "markdown",
   "metadata": {},
   "source": [
    "### 이제 뭘 해야할까\n",
    "1. 사용자가 현재 플레이중인지 아닌지를 알아야한다.\n",
    "2. 좌우방향 좌표계 변환\n",
    "3. 상하방향 좌표계 변환 \n",
    "### 방법 브레인스토밍\n",
    "1. 플레이중인지 알기 위한 방법\n",
    "- 공 움직임\n",
    "- 손 움직임\n",
    "- 발 움직임\n",
    "- 첫 샷을 기준으로? 서브? "
   ]
  }
 ],
 "metadata": {
  "language_info": {
   "name": "python"
  }
 },
 "nbformat": 4,
 "nbformat_minor": 2
}
