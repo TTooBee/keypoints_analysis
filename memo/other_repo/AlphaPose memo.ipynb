{
 "cells": [
  {
   "cell_type": "markdown",
   "metadata": {},
   "source": [
    "# AlphaPose 관련\n",
    "##### 비디오 3d keypoints prediction 명령어\n",
    "python scripts/demo_3d_inference.py --cfg configs/smpl/256x192_adam_lr1e-3-res34_smpl_24_3d_base_2x_mix.yaml --checkpoint pretrained_models/pretrained_w_cam.pth --video examples/demo/sinner_0109.mp4\n",
    "\n",
    "##### 이미지 3d keypoints prediction 명령어\n",
    "python scripts/demo_3d_inference.py --cfg configs/smpl/256x192_adam_lr1e-3-res34_smpl_24_3d_base_2x_mix.yaml --checkpoint pretrained_models/pretrained_w_cam.pth --image examples/demo/body_0108_1.jpg\n",
    "\n",
    "##### 이미지 2d keypoints prediction 명령어\n",
    "python scripts/demo_3d_inference.py --cfg configs/smpl/256x192_adam_lr1e-3-res34_smpl_24_3d_base_2x_mix.yaml --checkpoint pretrained_models/pretrained_w_cam.pth --indir examples/demo/"
   ]
  },
  {
   "cell_type": "markdown",
   "metadata": {},
   "source": [
    "# 문서 위치\n",
    "D:\\Users\\Sehyun Sohn\\AlphaPose\\docs 에 run.md 보면 inference 실행 시 필요한 arguments 알려주고 있음"
   ]
  }
 ],
 "metadata": {
  "language_info": {
   "name": "python"
  }
 },
 "nbformat": 4,
 "nbformat_minor": 2
}
