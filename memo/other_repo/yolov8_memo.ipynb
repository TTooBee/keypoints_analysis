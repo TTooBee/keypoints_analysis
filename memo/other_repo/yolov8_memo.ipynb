{
 "cells": [
  {
   "cell_type": "markdown",
   "metadata": {},
   "source": [
    "# yolov8 관련 메모\n",
    "\n",
    "- 데이터셋 압축 해제 후 test, train, valid 폴더의 위치는 다음과 같다\n",
    "    - C:\\Users\\datasets\n",
    "\n",
    "- 기존에 사용한 datasets가 있을 것이다. 이것들은 모두 이름을 바꿔놓고, 새로운 데이터셋을 이 폴더에 집어넣는다.\n",
    "- 결과는 C:\\Users\\Sehyun Sohn\\runs 에 저장된다. 여기서 best.pt 모델 사용하면 된다."
   ]
  }
 ],
 "metadata": {
  "language_info": {
   "name": "python"
  }
 },
 "nbformat": 4,
 "nbformat_minor": 2
}
