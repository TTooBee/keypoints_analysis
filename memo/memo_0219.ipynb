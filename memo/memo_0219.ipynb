{
 "cells": [
  {
   "cell_type": "markdown",
   "metadata": {},
   "source": [
    "# 0219 메모\n",
    "### 앵글 밖에 없는 것\n",
    "- 우선 영상에는 사용자가 많이 나와야 한다\n",
    "- 미분 값이 튀는 곳을 찾는다"
   ]
  }
 ],
 "metadata": {
  "language_info": {
   "name": "python"
  }
 },
 "nbformat": 4,
 "nbformat_minor": 2
}
